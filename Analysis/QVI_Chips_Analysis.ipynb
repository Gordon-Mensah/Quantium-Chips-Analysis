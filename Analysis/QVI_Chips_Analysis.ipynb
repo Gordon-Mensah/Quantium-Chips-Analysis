{
 "cells": [
  {
   "cell_type": "markdown",
   "id": "9eceaa5e",
   "metadata": {},
   "source": [
    "# Quantium Chips Analysis Report\n",
    "\n",
    "---\n",
    "\n",
    "## 1. Introduction\n",
    "This report analyzes customer purchasing behavior for chips to provide actionable insights for the Category Manager.\n",
    "\n",
    "---\n"
   ]
  },
  {
   "cell_type": "code",
   "execution_count": 11,
   "id": "a6cc366a",
   "metadata": {},
   "outputs": [
    {
     "name": "stdout",
     "output_type": "stream",
     "text": [
      "   LYLTY_CARD_NBR               LIFESTAGE PREMIUM_CUSTOMER\n",
      "0            1000   YOUNG SINGLES/COUPLES          Premium\n",
      "1            1002   YOUNG SINGLES/COUPLES       Mainstream\n",
      "2            1003          YOUNG FAMILIES           Budget\n",
      "3            1004   OLDER SINGLES/COUPLES       Mainstream\n",
      "4            1005  MIDAGE SINGLES/COUPLES       Mainstream\n",
      "    DATE  STORE_NBR  LYLTY_CARD_NBR  TXN_ID  PROD_NBR  \\\n",
      "0  43390          1            1000       1         5   \n",
      "1  43599          1            1307     348        66   \n",
      "2  43605          1            1343     383        61   \n",
      "3  43329          2            2373     974        69   \n",
      "4  43330          2            2426    1038       108   \n",
      "\n",
      "                                  PROD_NAME  PROD_QTY  TOT_SALES  \n",
      "0    Natural Chip        Compny SeaSalt175g         2        6.0  \n",
      "1                  CCs Nacho Cheese    175g         3        6.3  \n",
      "2    Smiths Crinkle Cut  Chips Chicken 170g         2        2.9  \n",
      "3    Smiths Chip Thinly  S/Cream&Onion 175g         5       15.0  \n",
      "4  Kettle Tortilla ChpsHny&Jlpno Chili 150g         3       13.8  \n"
     ]
    }
   ],
   "source": [
    "import pandas as pd\n",
    "import matplotlib.pyplot as plt\n",
    "\n",
    "# Load datasets\n",
    "purchase_behaviour_data = pd.read_csv('QVI_purchase_behaviour.csv')\n",
    "transaction_data = pd.read_excel('QVI_transaction_data.xlsx')\n",
    "\n",
    "# Check the first few rows of each dataset to understand their structure\n",
    "print(purchase_behaviour_data.head())\n",
    "print(transaction_data.head())"
   ]
  },
  {
   "cell_type": "markdown",
   "id": "3aa3bd1a",
   "metadata": {},
   "source": [
    "## Data Cleaning\n",
    "1. Converted the `DATE` column to a proper date format.\n",
    "2. Extracted `PACK_SIZE` from product descriptions.\n",
    "3. Created a `BRAND` column using the first word of the product name.\n",
    "4. Checked for and addressed missing values in the dataset:\n",
    "   - Missing `PACK_SIZE` values: These were left for further analysis as they represent non-standard products.\n"
   ]
  },
  {
   "cell_type": "code",
   "execution_count": 12,
   "id": "c5d6b421",
   "metadata": {},
   "outputs": [
    {
     "name": "stdout",
     "output_type": "stream",
     "text": [
      "DATE column is already in datetime format.\n"
     ]
    }
   ],
   "source": [
    "# Ensure DATE is in datetime format\n",
    "if transaction_data['DATE'].dtype != 'datetime64[ns]':\n",
    "    transaction_data['DATE'] = pd.to_datetime('1899-12-30') + pd.to_timedelta(transaction_data['DATE'], unit='d')\n",
    "\n",
    "# If it's already in datetime format, print a confirmation\n",
    "print(\"DATE column is already in datetime format.\")\n"
   ]
  },
  {
   "cell_type": "code",
   "execution_count": 4,
   "id": "bda955c2",
   "metadata": {},
   "outputs": [],
   "source": [
    "transaction_data['PACK_SIZE'] = transaction_data['PROD_NAME'].str.extract(r'(\\d+)g').astype(float)\n",
    "transaction_data['BRAND'] = transaction_data['PROD_NAME'].str.split().str[0]"
   ]
  },
  {
   "cell_type": "code",
   "execution_count": 5,
   "id": "de7689d1",
   "metadata": {},
   "outputs": [
    {
     "name": "stdout",
     "output_type": "stream",
     "text": [
      "DATE                 0\n",
      "STORE_NBR            0\n",
      "LYLTY_CARD_NBR       0\n",
      "TXN_ID               0\n",
      "PROD_NBR             0\n",
      "PROD_NAME            0\n",
      "PROD_QTY             0\n",
      "TOT_SALES            0\n",
      "PACK_SIZE         6064\n",
      "BRAND                0\n",
      "dtype: int64\n",
      "LYLTY_CARD_NBR      0\n",
      "LIFESTAGE           0\n",
      "PREMIUM_CUSTOMER    0\n",
      "dtype: int64\n"
     ]
    }
   ],
   "source": [
    "print(transaction_data.isnull().sum())\n",
    "print(purchase_behaviour_data.isnull().sum())\n"
   ]
  },
  {
   "cell_type": "code",
   "execution_count": 6,
   "id": "add75294",
   "metadata": {},
   "outputs": [
    {
     "name": "stdout",
     "output_type": "stream",
     "text": [
      "        DATE  STORE_NBR  LYLTY_CARD_NBR  TXN_ID  PROD_NBR  \\\n",
      "0 2018-10-17          1            1000       1         5   \n",
      "1 2019-05-14          1            1307     348        66   \n",
      "2 2019-05-20          1            1343     383        61   \n",
      "3 2018-08-17          2            2373     974        69   \n",
      "4 2018-08-18          2            2426    1038       108   \n",
      "\n",
      "                                  PROD_NAME  PROD_QTY  TOT_SALES  PACK_SIZE  \\\n",
      "0    Natural Chip        Compny SeaSalt175g         2        6.0      175.0   \n",
      "1                  CCs Nacho Cheese    175g         3        6.3      175.0   \n",
      "2    Smiths Crinkle Cut  Chips Chicken 170g         2        2.9      170.0   \n",
      "3    Smiths Chip Thinly  S/Cream&Onion 175g         5       15.0      175.0   \n",
      "4  Kettle Tortilla ChpsHny&Jlpno Chili 150g         3       13.8      150.0   \n",
      "\n",
      "     BRAND               LIFESTAGE PREMIUM_CUSTOMER  \n",
      "0  Natural   YOUNG SINGLES/COUPLES          Premium  \n",
      "1      CCs  MIDAGE SINGLES/COUPLES           Budget  \n",
      "2   Smiths  MIDAGE SINGLES/COUPLES           Budget  \n",
      "3   Smiths  MIDAGE SINGLES/COUPLES           Budget  \n",
      "4   Kettle  MIDAGE SINGLES/COUPLES           Budget  \n"
     ]
    }
   ],
   "source": [
    "merged_data = transaction_data.merge(\n",
    "    purchase_behaviour_data,\n",
    "    on='LYLTY_CARD_NBR',\n",
    "    how='left'\n",
    ")\n",
    "\n",
    "# Check the first few rows of the merged data\n",
    "print(merged_data.head())"
   ]
  },
  {
   "cell_type": "markdown",
   "id": "eb4b4f97",
   "metadata": {},
   "source": [
    "## Exploratory Data Analysis\n",
    "- **Total Sales by Customer Segment**:\n",
    "  The following chart illustrates the total sales for each customer segment.\n"
   ]
  },
  {
   "cell_type": "code",
   "execution_count": 7,
   "id": "3d451d21",
   "metadata": {},
   "outputs": [
    {
     "name": "stdout",
     "output_type": "stream",
     "text": [
      "                LIFESTAGE  TOT_SALES   PACK_SIZE\n",
      "0  MIDAGE SINGLES/COUPLES  184751.30  182.608294\n",
      "1            NEW FAMILIES   50433.45  181.226682\n",
      "2          OLDER FAMILIES  353767.20  182.117682\n",
      "3   OLDER SINGLES/COUPLES  402426.75  182.248098\n",
      "4                RETIREES  366470.90  182.551189\n",
      "5          YOUNG FAMILIES  316160.10  181.852523\n",
      "6   YOUNG SINGLES/COUPLES  260405.30  182.992238\n"
     ]
    }
   ],
   "source": [
    "customer_metrics = merged_data.groupby('LIFESTAGE').agg({\n",
    "    'TOT_SALES': 'sum',\n",
    "    'PACK_SIZE': 'mean'\n",
    "}).reset_index()\n",
    "\n",
    "print(customer_metrics)"
   ]
  },
  {
   "cell_type": "markdown",
   "id": "e2e39321",
   "metadata": {},
   "source": [
    "### Total Sales by Customer Segment\n",
    "The chart below shows total sales across different customer segments.\n"
   ]
  },
  {
   "cell_type": "code",
   "execution_count": 13,
   "id": "4deb37dd",
   "metadata": {},
   "outputs": [
    {
     "data": {
      "image/png": "[encoded data removed]",
      "text/plain": [
       "<Figure size 720x432 with 1 Axes>"
      ]
     },
     "metadata": {
      "needs_background": "light"
     },
     "output_type": "display_data"
    }
   ],
   "source": [
    "import matplotlib.pyplot as plt\n",
    "\n",
    "# Bar chart for sales by customer segment\n",
    "plt.figure(figsize=(10, 6))\n",
    "plt.bar(customer_metrics['LIFESTAGE'], customer_metrics['TOT_SALES'])\n",
    "plt.title('Total Sales by Customer Segment')\n",
    "plt.xlabel('Customer Segment')\n",
    "plt.ylabel('Total Sales')\n",
    "plt.xticks(rotation=45)\n",
    "plt.savefig('sales_by_segment.png')  # Save the chart as an image\n",
    "plt.show()\n"
   ]
  },
  {
   "cell_type": "markdown",
   "id": "69e06e7d",
   "metadata": {},
   "source": [
    "**Insight:** The majority of sales come from older families and retirees, indicating these segments are key contributors.\n"
   ]
  },
  {
   "cell_type": "markdown",
   "id": "07298d15",
   "metadata": {},
   "source": [
    "**Insight:** Large pack sizes (175g) are the most popular among all customer segments.\n"
   ]
  },
  {
   "cell_type": "markdown",
   "id": "04c1ccd9",
   "metadata": {},
   "source": [
    "## Key Findings\n",
    "1. **Popular Pack Sizes:** The 175g pack is the most purchased across all segments.\n",
    "2. **High-Spending Segments:** Older families and retirees dominate chip purchases.\n",
    "3. **Brand Preferences:** Mainstream customers prefer Smiths and Kettle brands.\n",
    "4. **Purchase Drivers:** Price sensitivity is higher among budget segments.\n"
   ]
  },
  {
   "cell_type": "markdown",
   "id": "e9679132",
   "metadata": {},
   "source": [
    "## Conclusion and Recommendations\n",
    "1. Focus marketing efforts on older families and retirees.\n",
    "2. Promote the most popular pack size (175g) through bundled offers.\n",
    "3. Highlight premium brands like Tyrrells for young singles/couples.\n",
    "4. Increase visibility of popular brands in high-traffic areas.\n"
   ]
  },
  {
   "cell_type": "code",
   "execution_count": 15,
   "id": "ac6bd3c5",
   "metadata": {},
   "outputs": [],
   "source": [
    "merged_data.to_csv('cleaned_merged_data.csv', index=False)"
   ]
  },
  {
   "cell_type": "code",
   "execution_count": 16,
   "id": "c6755ea8",
   "metadata": {},
   "outputs": [
    {
     "data": {
      "text/plain": [
       "<Figure size 432x288 with 0 Axes>"
      ]
     },
     "metadata": {},
     "output_type": "display_data"
    }
   ],
   "source": [
    "plt.savefig('sales_by_segment.png')"
   ]
  }
 ],
 "metadata": {
  "kernelspec": {
   "display_name": "Python 3 (ipykernel)",
   "language": "python",
   "name": "python3"
  },
  "language_info": {
   "codemirror_mode": {
    "name": "ipython",
    "version": 3
   },
   "file_extension": ".py",
   "mimetype": "text/x-python",
   "name": "python",
   "nbconvert_exporter": "python",
   "pygments_lexer": "ipython3",
   "version": "3.9.12"
  }
 },
 "nbformat": 4,
 "nbformat_minor": 5
}
